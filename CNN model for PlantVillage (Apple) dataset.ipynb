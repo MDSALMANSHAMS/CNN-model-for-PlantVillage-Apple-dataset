{
 "cells": [
  {
   "cell_type": "code",
   "execution_count": 1,
   "id": "80c68201",
   "metadata": {},
   "outputs": [
    {
     "name": "stdout",
     "output_type": "stream",
     "text": [
      "Found 3171 files belonging to 4 classes.\n"
     ]
    }
   ],
   "source": [
    "import tensorflow as tf\n",
    "import numpy as np\n",
    "import matplotlib.pyplot as plt\n",
    "from tensorflow.keras import layers\n",
    "\n",
    "BATCH_SIZE = 1\n",
    "IMAGE_SIZE = 256\n",
    "EPOCHS = 3\n",
    "CHANNEL = 3\n",
    "\n",
    "dataset = tf.keras.preprocessing.image_dataset_from_directory(\"PlantVillage_Apple\",shuffle = True,image_size=(IMAGE_SIZE,IMAGE_SIZE),batch_size= BATCH_SIZE)"
   ]
  },
  {
   "cell_type": "code",
   "execution_count": 2,
   "id": "e3f3bf43",
   "metadata": {},
   "outputs": [
    {
     "name": "stdout",
     "output_type": "stream",
     "text": [
      "['Apple___Apple_scab', 'Apple___Black_rot', 'Apple___Cedar_apple_rust', 'Apple___healthy']\n"
     ]
    }
   ],
   "source": [
    "class_names = dataset.class_names\n",
    "print(class_names)"
   ]
  },
  {
   "cell_type": "code",
   "execution_count": 3,
   "id": "1a4b6c7a",
   "metadata": {},
   "outputs": [],
   "source": [
    "def get_dataset_partition(dataset, train_split = 0.8, test_split = 0.1,val_split = 0.1, shuffle = True, shuffle_size = 10000):\n",
    "    assert (train_split + test_split + val_split)==1\n",
    "\n",
    "    data_size = len(dataset)\n",
    "    if shuffle:\n",
    "        dataset = dataset.shuffle(shuffle_size,seed = 12)\n",
    "    train_size = int(train_split*data_size)\n",
    "    val_size = int(val_split*data_size)\n",
    "\n",
    "    train_data = dataset.take(train_size)\n",
    "    val_data = dataset.skip(train_size).take(val_size)\n",
    "    test_data = dataset.skip(train_size).skip(val_size)\n",
    "\n",
    "    return train_data,val_data,test_data\n",
    "\n",
    "train_data, val_data, test_data = get_dataset_partition(dataset=dataset)\n",
    "\n",
    "train_ds = train_data.cache().shuffle(1000).prefetch(buffer_size = tf.data.AUTOTUNE)\n",
    "validation_ds = val_data.cache().shuffle(1000).prefetch(buffer_size = tf.data.AUTOTUNE)\n",
    "test_ds = test_data.cache().shuffle(1000).prefetch(buffer_size = tf.data.AUTOTUNE)"
   ]
  },
  {
   "cell_type": "code",
   "execution_count": 4,
   "id": "99f6074c",
   "metadata": {},
   "outputs": [],
   "source": [
    "resize_rescale = tf.keras.Sequential([layers.experimental.preprocessing.Resizing(IMAGE_SIZE,IMAGE_SIZE),layers.experimental.preprocessing.Rescaling(1.0/255)])\n",
    "augmentation = tf.keras.Sequential([layers.experimental.preprocessing.RandomFlip(\"horizontal_and_vertical\"),layers.experimental.preprocessing.RandomRotation(0.2),layers.experimental.preprocessing.RandomZoom(0.2)])"
   ]
  },
  {
   "cell_type": "code",
   "execution_count": 5,
   "id": "458db30c",
   "metadata": {},
   "outputs": [],
   "source": [
    "input_shape = (BATCH_SIZE,IMAGE_SIZE,IMAGE_SIZE,CHANNEL)\n",
    "n_class = 15\n",
    "model = tf.keras.Sequential(\n",
    "    [resize_rescale,\n",
    "    augmentation,\n",
    "    layers.Conv2D(16,kernel_size=(3,3),activation='relu',input_shape=input_shape,padding='same'),\n",
    "    layers.BatchNormalization(),\n",
    "    layers.MaxPooling2D((2,2)),\n",
    "    layers.Dropout(0.2),\n",
    "    layers.Conv2D(64,kernel_size=(3,3),activation='relu',padding='same'),\n",
    "    layers.BatchNormalization(),\n",
    "    layers.MaxPooling2D((2,2)),\n",
    "    layers.Conv2D(128,kernel_size=(3,3),activation='relu',padding='same'),\n",
    "    layers.BatchNormalization(),\n",
    "    layers.MaxPooling2D((2,2)),\n",
    "    layers.Dropout(0.2),\n",
    "    layers.Conv2D(512,kernel_size=(3,3),activation='relu',padding='same'),\n",
    "    layers.BatchNormalization(),\n",
    "    layers.MaxPooling2D((2,2)),\n",
    "    layers.Dropout(0.2),\n",
    "    layers.Conv2D(128,kernel_size=(3,3),activation='relu',padding='same'),\n",
    "    layers.BatchNormalization(),\n",
    "    layers.MaxPooling2D((2,2)),\n",
    "    layers.Dropout(0.2),\n",
    "    layers.Conv2D(64,kernel_size=(3,3),activation='relu',padding='same'),\n",
    "    layers.BatchNormalization(),\n",
    "    layers.MaxPooling2D((2,2)),\n",
    "    layers.Flatten(),\n",
    "    layers.Dense(64,activation='relu'),\n",
    "    layers.Dense(n_class,activation='softmax')]\n",
    ")\n",
    "\n",
    "model.build(input_shape=input_shape)"
   ]
  },
  {
   "cell_type": "code",
   "execution_count": 6,
   "id": "6525acb6",
   "metadata": {},
   "outputs": [
    {
     "name": "stdout",
     "output_type": "stream",
     "text": [
      "Model: \"sequential_2\"\n",
      "_________________________________________________________________\n",
      " Layer (type)                Output Shape              Param #   \n",
      "=================================================================\n",
      " sequential (Sequential)     (1, 256, 256, 3)          0         \n",
      "                                                                 \n",
      " sequential_1 (Sequential)   (1, 256, 256, 3)          0         \n",
      "                                                                 \n",
      " conv2d (Conv2D)             (1, 256, 256, 16)         448       \n",
      "                                                                 \n",
      " batch_normalization (BatchN  (1, 256, 256, 16)        64        \n",
      " ormalization)                                                   \n",
      "                                                                 \n",
      " max_pooling2d (MaxPooling2D  (1, 128, 128, 16)        0         \n",
      " )                                                               \n",
      "                                                                 \n",
      " dropout (Dropout)           (1, 128, 128, 16)         0         \n",
      "                                                                 \n",
      " conv2d_1 (Conv2D)           (1, 128, 128, 64)         9280      \n",
      "                                                                 \n",
      " batch_normalization_1 (Batc  (1, 128, 128, 64)        256       \n",
      " hNormalization)                                                 \n",
      "                                                                 \n",
      " max_pooling2d_1 (MaxPooling  (1, 64, 64, 64)          0         \n",
      " 2D)                                                             \n",
      "                                                                 \n",
      " conv2d_2 (Conv2D)           (1, 64, 64, 128)          73856     \n",
      "                                                                 \n",
      " batch_normalization_2 (Batc  (1, 64, 64, 128)         512       \n",
      " hNormalization)                                                 \n",
      "                                                                 \n",
      " max_pooling2d_2 (MaxPooling  (1, 32, 32, 128)         0         \n",
      " 2D)                                                             \n",
      "                                                                 \n",
      " dropout_1 (Dropout)         (1, 32, 32, 128)          0         \n",
      "                                                                 \n",
      " conv2d_3 (Conv2D)           (1, 32, 32, 512)          590336    \n",
      "                                                                 \n",
      " batch_normalization_3 (Batc  (1, 32, 32, 512)         2048      \n",
      " hNormalization)                                                 \n",
      "                                                                 \n",
      " max_pooling2d_3 (MaxPooling  (1, 16, 16, 512)         0         \n",
      " 2D)                                                             \n",
      "                                                                 \n",
      " dropout_2 (Dropout)         (1, 16, 16, 512)          0         \n",
      "                                                                 \n",
      " conv2d_4 (Conv2D)           (1, 16, 16, 128)          589952    \n",
      "                                                                 \n",
      " batch_normalization_4 (Batc  (1, 16, 16, 128)         512       \n",
      " hNormalization)                                                 \n",
      "                                                                 \n",
      " max_pooling2d_4 (MaxPooling  (1, 8, 8, 128)           0         \n",
      " 2D)                                                             \n",
      "                                                                 \n",
      " dropout_3 (Dropout)         (1, 8, 8, 128)            0         \n",
      "                                                                 \n",
      " conv2d_5 (Conv2D)           (1, 8, 8, 64)             73792     \n",
      "                                                                 \n",
      " batch_normalization_5 (Batc  (1, 8, 8, 64)            256       \n",
      " hNormalization)                                                 \n",
      "                                                                 \n",
      " max_pooling2d_5 (MaxPooling  (1, 4, 4, 64)            0         \n",
      " 2D)                                                             \n",
      "                                                                 \n",
      " flatten (Flatten)           (1, 1024)                 0         \n",
      "                                                                 \n",
      " dense (Dense)               (1, 64)                   65600     \n",
      "                                                                 \n",
      " dense_1 (Dense)             (1, 15)                   975       \n",
      "                                                                 \n",
      "=================================================================\n",
      "Total params: 1,407,887\n",
      "Trainable params: 1,406,063\n",
      "Non-trainable params: 1,824\n",
      "_________________________________________________________________\n"
     ]
    }
   ],
   "source": [
    "model.summary()"
   ]
  },
  {
   "cell_type": "code",
   "execution_count": 7,
   "id": "fe4193ba",
   "metadata": {},
   "outputs": [],
   "source": [
    "model.compile(\n",
    "    optimizer='rmsprop',\n",
    "    loss=tf.keras.losses.SparseCategoricalCrossentropy(from_logits=False),\n",
    "    metrics=['accuracy']\n",
    ")"
   ]
  },
  {
   "cell_type": "code",
   "execution_count": 8,
   "id": "dd5b4c88",
   "metadata": {},
   "outputs": [
    {
     "name": "stdout",
     "output_type": "stream",
     "text": [
      "Epoch 1/3\n",
      "2536/2536 [==============================] - 562s 219ms/step - loss: 1.3662 - accuracy: 0.5319 - val_loss: 13.0807 - val_accuracy: 0.5426\n",
      "Epoch 2/3\n",
      "2536/2536 [==============================] - 4668s 2s/step - loss: 0.9419 - accuracy: 0.6621 - val_loss: 13.6383 - val_accuracy: 0.5457\n",
      "Epoch 3/3\n",
      "2536/2536 [==============================] - 952s 375ms/step - loss: 0.7860 - accuracy: 0.7535 - val_loss: 10.0916 - val_accuracy: 0.4953\n"
     ]
    }
   ],
   "source": [
    "history = model.fit(train_data,batch_size= BATCH_SIZE,validation_data = val_data,verbose = 1,epochs = EPOCHS)"
   ]
  },
  {
   "cell_type": "code",
   "execution_count": 9,
   "id": "1aed2240",
   "metadata": {},
   "outputs": [
    {
     "name": "stdout",
     "output_type": "stream",
     "text": [
      "318/318 [==============================] - 21s 59ms/step - loss: 10.9340 - accuracy: 0.4843\n"
     ]
    }
   ],
   "source": [
    "score = model.evaluate(test_data)\n"
   ]
  },
  {
   "cell_type": "code",
   "execution_count": 10,
   "id": "4c9e6b84",
   "metadata": {},
   "outputs": [],
   "source": [
    "acc = history.history['accuracy']\n",
    "val_acc = history.history['val_accuracy']\n",
    "loss = history.history['loss']\n",
    "val_loss = history.history['val_loss']"
   ]
  },
  {
   "cell_type": "code",
   "execution_count": 11,
   "id": "12ab4d3b",
   "metadata": {},
   "outputs": [
    {
     "data": {
      "text/plain": [
       "Text(0.5, 1.0, 'Training and Validation Accuracy')"
      ]
     },
     "execution_count": 11,
     "metadata": {},
     "output_type": "execute_result"
    },
    {
     "data": {
      "image/png": "[encoded data removed]",
      "text/plain": [
       "<Figure size 576x576 with 1 Axes>"
      ]
     },
     "metadata": {
      "needs_background": "light"
     },
     "output_type": "display_data"
    }
   ],
   "source": [
    "plt.figure(figsize=(8, 8))\n",
    "plt.subplot(1, 2, 1)\n",
    "plt.plot(range(EPOCHS), acc, label='Training Accuracy')\n",
    "plt.plot(range(EPOCHS), val_acc, label='Validation Accuracy')\n",
    "plt.legend(loc='lower right')\n",
    "plt.title('Training and Validation Accuracy')\n"
   ]
  },
  {
   "cell_type": "code",
   "execution_count": 12,
   "id": "78b6c685",
   "metadata": {},
   "outputs": [
    {
     "data": {
      "image/png": "[encoded data removed]",
      "text/plain": [
       "<Figure size 432x288 with 1 Axes>"
      ]
     },
     "metadata": {
      "needs_background": "light"
     },
     "output_type": "display_data"
    }
   ],
   "source": [
    "plt.subplot(1, 2, 2)\n",
    "plt.plot(range(EPOCHS), loss, label='Training Loss')\n",
    "plt.plot(range(EPOCHS), val_loss, label='Validation Loss')\n",
    "plt.legend(loc='upper right')\n",
    "plt.title('Training and Validation Loss')\n",
    "plt.show() "
   ]
  }
 ],
 "metadata": {
  "kernelspec": {
   "display_name": "Python 3 (ipykernel)",
   "language": "python",
   "name": "python3"
  },
  "language_info": {
   "codemirror_mode": {
    "name": "ipython",
    "version": 3
   },
   "file_extension": ".py",
   "mimetype": "text/x-python",
   "name": "python",
   "nbconvert_exporter": "python",
   "pygments_lexer": "ipython3",
   "version": "3.9.7"
  }
 },
 "nbformat": 4,
 "nbformat_minor": 5
}
